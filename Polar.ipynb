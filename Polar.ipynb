{
  "nbformat": 4,
  "nbformat_minor": 0,
  "metadata": {
    "colab": {
      "name": "Polar.ipynb",
      "provenance": []
    },
    "kernelspec": {
      "name": "python3",
      "display_name": "Python 3"
    },
    "language_info": {
      "name": "python"
    }
  },
  "cells": [
    {
      "cell_type": "code",
      "metadata": {
        "id": "C6bL9jfAfydd",
        "colab": {
          "base_uri": "https://localhost:8080/"
        },
        "outputId": "c1f35664-bcd5-4c1a-9710-70b77f542530"
      },
      "source": [
        "!pip install digcommpy"
      ],
      "execution_count": 1,
      "outputs": [
        {
          "output_type": "stream",
          "text": [
            "Requirement already satisfied: digcommpy in /usr/local/lib/python3.7/dist-packages (0.8)\n",
            "Requirement already satisfied: pandas in /usr/local/lib/python3.7/dist-packages (from digcommpy) (1.1.5)\n",
            "Requirement already satisfied: scipy in /usr/local/lib/python3.7/dist-packages (from digcommpy) (1.4.1)\n",
            "Requirement already satisfied: hpelm in /usr/local/lib/python3.7/dist-packages (from digcommpy) (1.0.10)\n",
            "Requirement already satisfied: keras in /usr/local/lib/python3.7/dist-packages (from digcommpy) (2.4.3)\n",
            "Requirement already satisfied: scikit-learn in /usr/local/lib/python3.7/dist-packages (from digcommpy) (0.22.2.post1)\n",
            "Requirement already satisfied: joblib in /usr/local/lib/python3.7/dist-packages (from digcommpy) (1.0.1)\n",
            "Requirement already satisfied: numpy in /usr/local/lib/python3.7/dist-packages (from digcommpy) (1.19.5)\n",
            "Requirement already satisfied: tensorflow in /usr/local/lib/python3.7/dist-packages (from digcommpy) (2.4.1)\n",
            "Requirement already satisfied: pytz>=2017.2 in /usr/local/lib/python3.7/dist-packages (from pandas->digcommpy) (2018.9)\n",
            "Requirement already satisfied: python-dateutil>=2.7.3 in /usr/local/lib/python3.7/dist-packages (from pandas->digcommpy) (2.8.1)\n",
            "Requirement already satisfied: nose in /usr/local/lib/python3.7/dist-packages (from hpelm->digcommpy) (1.3.7)\n",
            "Requirement already satisfied: tables in /usr/local/lib/python3.7/dist-packages (from hpelm->digcommpy) (3.4.4)\n",
            "Requirement already satisfied: fasteners in /usr/local/lib/python3.7/dist-packages (from hpelm->digcommpy) (0.16)\n",
            "Requirement already satisfied: six in /usr/local/lib/python3.7/dist-packages (from hpelm->digcommpy) (1.15.0)\n",
            "Requirement already satisfied: pyyaml in /usr/local/lib/python3.7/dist-packages (from keras->digcommpy) (3.13)\n",
            "Requirement already satisfied: h5py in /usr/local/lib/python3.7/dist-packages (from keras->digcommpy) (2.10.0)\n",
            "Requirement already satisfied: wheel~=0.35 in /usr/local/lib/python3.7/dist-packages (from tensorflow->digcommpy) (0.36.2)\n",
            "Requirement already satisfied: google-pasta~=0.2 in /usr/local/lib/python3.7/dist-packages (from tensorflow->digcommpy) (0.2.0)\n",
            "Requirement already satisfied: keras-preprocessing~=1.1.2 in /usr/local/lib/python3.7/dist-packages (from tensorflow->digcommpy) (1.1.2)\n",
            "Requirement already satisfied: protobuf>=3.9.2 in /usr/local/lib/python3.7/dist-packages (from tensorflow->digcommpy) (3.12.4)\n",
            "Requirement already satisfied: gast==0.3.3 in /usr/local/lib/python3.7/dist-packages (from tensorflow->digcommpy) (0.3.3)\n",
            "Requirement already satisfied: grpcio~=1.32.0 in /usr/local/lib/python3.7/dist-packages (from tensorflow->digcommpy) (1.32.0)\n",
            "Requirement already satisfied: termcolor~=1.1.0 in /usr/local/lib/python3.7/dist-packages (from tensorflow->digcommpy) (1.1.0)\n",
            "Requirement already satisfied: opt-einsum~=3.3.0 in /usr/local/lib/python3.7/dist-packages (from tensorflow->digcommpy) (3.3.0)\n",
            "Requirement already satisfied: wrapt~=1.12.1 in /usr/local/lib/python3.7/dist-packages (from tensorflow->digcommpy) (1.12.1)\n",
            "Requirement already satisfied: tensorflow-estimator<2.5.0,>=2.4.0 in /usr/local/lib/python3.7/dist-packages (from tensorflow->digcommpy) (2.4.0)\n",
            "Requirement already satisfied: tensorboard~=2.4 in /usr/local/lib/python3.7/dist-packages (from tensorflow->digcommpy) (2.4.1)\n",
            "Requirement already satisfied: absl-py~=0.10 in /usr/local/lib/python3.7/dist-packages (from tensorflow->digcommpy) (0.10.0)\n",
            "Requirement already satisfied: astunparse~=1.6.3 in /usr/local/lib/python3.7/dist-packages (from tensorflow->digcommpy) (1.6.3)\n",
            "Requirement already satisfied: typing-extensions~=3.7.4 in /usr/local/lib/python3.7/dist-packages (from tensorflow->digcommpy) (3.7.4.3)\n",
            "Requirement already satisfied: flatbuffers~=1.12.0 in /usr/local/lib/python3.7/dist-packages (from tensorflow->digcommpy) (1.12)\n",
            "Requirement already satisfied: numexpr>=2.5.2 in /usr/local/lib/python3.7/dist-packages (from tables->hpelm->digcommpy) (2.7.3)\n",
            "Requirement already satisfied: setuptools in /usr/local/lib/python3.7/dist-packages (from protobuf>=3.9.2->tensorflow->digcommpy) (54.1.2)\n",
            "Requirement already satisfied: google-auth-oauthlib<0.5,>=0.4.1 in /usr/local/lib/python3.7/dist-packages (from tensorboard~=2.4->tensorflow->digcommpy) (0.4.3)\n",
            "Requirement already satisfied: tensorboard-plugin-wit>=1.6.0 in /usr/local/lib/python3.7/dist-packages (from tensorboard~=2.4->tensorflow->digcommpy) (1.8.0)\n",
            "Requirement already satisfied: google-auth<2,>=1.6.3 in /usr/local/lib/python3.7/dist-packages (from tensorboard~=2.4->tensorflow->digcommpy) (1.27.1)\n",
            "Requirement already satisfied: requests<3,>=2.21.0 in /usr/local/lib/python3.7/dist-packages (from tensorboard~=2.4->tensorflow->digcommpy) (2.23.0)\n",
            "Requirement already satisfied: werkzeug>=0.11.15 in /usr/local/lib/python3.7/dist-packages (from tensorboard~=2.4->tensorflow->digcommpy) (1.0.1)\n",
            "Requirement already satisfied: markdown>=2.6.8 in /usr/local/lib/python3.7/dist-packages (from tensorboard~=2.4->tensorflow->digcommpy) (3.3.4)\n",
            "Requirement already satisfied: requests-oauthlib>=0.7.0 in /usr/local/lib/python3.7/dist-packages (from google-auth-oauthlib<0.5,>=0.4.1->tensorboard~=2.4->tensorflow->digcommpy) (1.3.0)\n",
            "Requirement already satisfied: pyasn1-modules>=0.2.1 in /usr/local/lib/python3.7/dist-packages (from google-auth<2,>=1.6.3->tensorboard~=2.4->tensorflow->digcommpy) (0.2.8)\n",
            "Requirement already satisfied: cachetools<5.0,>=2.0.0 in /usr/local/lib/python3.7/dist-packages (from google-auth<2,>=1.6.3->tensorboard~=2.4->tensorflow->digcommpy) (4.2.1)\n",
            "Requirement already satisfied: rsa<5,>=3.1.4; python_version >= \"3.6\" in /usr/local/lib/python3.7/dist-packages (from google-auth<2,>=1.6.3->tensorboard~=2.4->tensorflow->digcommpy) (4.7.2)\n",
            "Requirement already satisfied: idna<3,>=2.5 in /usr/local/lib/python3.7/dist-packages (from requests<3,>=2.21.0->tensorboard~=2.4->tensorflow->digcommpy) (2.10)\n",
            "Requirement already satisfied: urllib3!=1.25.0,!=1.25.1,<1.26,>=1.21.1 in /usr/local/lib/python3.7/dist-packages (from requests<3,>=2.21.0->tensorboard~=2.4->tensorflow->digcommpy) (1.24.3)\n",
            "Requirement already satisfied: chardet<4,>=3.0.2 in /usr/local/lib/python3.7/dist-packages (from requests<3,>=2.21.0->tensorboard~=2.4->tensorflow->digcommpy) (3.0.4)\n",
            "Requirement already satisfied: certifi>=2017.4.17 in /usr/local/lib/python3.7/dist-packages (from requests<3,>=2.21.0->tensorboard~=2.4->tensorflow->digcommpy) (2020.12.5)\n",
            "Requirement already satisfied: importlib-metadata; python_version < \"3.8\" in /usr/local/lib/python3.7/dist-packages (from markdown>=2.6.8->tensorboard~=2.4->tensorflow->digcommpy) (3.7.2)\n",
            "Requirement already satisfied: oauthlib>=3.0.0 in /usr/local/lib/python3.7/dist-packages (from requests-oauthlib>=0.7.0->google-auth-oauthlib<0.5,>=0.4.1->tensorboard~=2.4->tensorflow->digcommpy) (3.1.0)\n",
            "Requirement already satisfied: pyasn1<0.5.0,>=0.4.6 in /usr/local/lib/python3.7/dist-packages (from pyasn1-modules>=0.2.1->google-auth<2,>=1.6.3->tensorboard~=2.4->tensorflow->digcommpy) (0.4.8)\n",
            "Requirement already satisfied: zipp>=0.5 in /usr/local/lib/python3.7/dist-packages (from importlib-metadata; python_version < \"3.8\"->markdown>=2.6.8->tensorboard~=2.4->tensorflow->digcommpy) (3.4.1)\n"
          ],
          "name": "stdout"
        }
      ]
    },
    {
      "cell_type": "code",
      "metadata": {
        "id": "n5E0rrIh2dAZ"
      },
      "source": [
        "import numpy as np\n",
        "import matplotlib.pyplot as plt\n",
        "\n",
        "from digcommpy import messages\n",
        "from digcommpy import encoders\n",
        "from digcommpy import channels\n",
        "from digcommpy import modulators\n",
        "from digcommpy import decoders\n",
        "from digcommpy import metrics"
      ],
      "execution_count": 2,
      "outputs": []
    },
    {
      "cell_type": "code",
      "metadata": {
        "id": "hJCS-ITa2nNw"
      },
      "source": [
        "#copy the ber of without coding case from matlab workspace\n",
        "ber_none = [0.3273, 0.3079, 0.2867, 0.2637, 0.2392, 0.2132, 0.1861, 0.1583, 0.1306, 0.1037, 0.0786, 0.0562, 0.0375, 0.0228, 0.0125]"
      ],
      "execution_count": 3,
      "outputs": []
    },
    {
      "cell_type": "code",
      "metadata": {
        "colab": {
          "base_uri": "https://localhost:8080/",
          "height": 582
        },
        "id": "wznV_a9T2j0w",
        "outputId": "f26b78ac-c5f6-44a0-da84-369e24bd034e"
      },
      "source": [
        "snrs = np.arange(-10, 5)\n",
        "ber = []\n",
        "n=256\n",
        "k=64\n",
        "mess = messages.generate_data(k, number=1000, binary=True)\n",
        "for snr_db in snrs:\n",
        "  print(\"Simulating SNR={:.2f}dB\".format(snr_db))\n",
        "  enc = encoders.PolarEncoder(n, k, 'BAWGN', snr_db) #choose polar\n",
        "  mod = modulators.BpskModulator() #choose BPSK modulator\n",
        "  cha = channels.BawgnChannel(snr_db, rate=k/n, input_power=1.) #choose the bi-awgn channel\n",
        "  dec = decoders.PolarDecoder(n, k, 'BAWGN', snr_db)\n",
        "  code = enc.encode_messages(mess)\n",
        "  code = mod.modulate_symbols(code)\n",
        "  rec = cha.transmit_data(code)\n",
        "  est = dec.decode_messages(rec, cha)\n",
        "  ber.append(metrics.ber(mess, est))\n",
        "plt.semilogy(snrs, ber,'o-',label = 'Polar')\n",
        "plt.semilogy(snrs, ber_none,'o-',label = 'Without coding')\n",
        "plt.xlabel(\"SNR/dB\")\n",
        "plt.ylabel(\"BER\")\n",
        "plt.legend()\n",
        "plt.title(\"Polar Code R=0.25, k=64 for BI-AWGN Channel,BPSK modulation\")"
      ],
      "execution_count": 4,
      "outputs": [
        {
          "output_type": "stream",
          "text": [
            "Simulating SNR=-10.00dB\n",
            "Simulating SNR=-9.00dB\n",
            "Simulating SNR=-8.00dB\n",
            "Simulating SNR=-7.00dB\n",
            "Simulating SNR=-6.00dB\n",
            "Simulating SNR=-5.00dB\n",
            "Simulating SNR=-4.00dB\n",
            "Simulating SNR=-3.00dB\n",
            "Simulating SNR=-2.00dB\n",
            "Simulating SNR=-1.00dB\n",
            "Simulating SNR=0.00dB\n",
            "Simulating SNR=1.00dB\n",
            "Simulating SNR=2.00dB\n",
            "Simulating SNR=3.00dB\n",
            "Simulating SNR=4.00dB\n"
          ],
          "name": "stdout"
        },
        {
          "output_type": "execute_result",
          "data": {
            "text/plain": [
              "Text(0.5, 1.0, 'Polar Code R=0.25, k=64 for BI-AWGN Channel,BPSK modulation')"
            ]
          },
          "metadata": {
            "tags": []
          },
          "execution_count": 4
        },
        {
          "output_type": "display_data",
          "data": {
            "image/png": "[encoded data removed]",
            "text/plain": [
              "<Figure size 432x288 with 1 Axes>"
            ]
          },
          "metadata": {
            "tags": [],
            "needs_background": "light"
          }
        }
      ]
    }
  ]
}