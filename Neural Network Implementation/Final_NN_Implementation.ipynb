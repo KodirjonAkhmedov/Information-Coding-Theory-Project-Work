{
 "cells": [
  {
   "cell_type": "markdown",
   "metadata": {
    "id": "TrRBXa842vhP"
   },
   "source": [
    "# Libraries"
   ]
  },
  {
   "cell_type": "code",
   "execution_count": 1,
   "metadata": {
    "id": "tDZNwgIKK8wk"
   },
   "outputs": [],
   "source": [
    "import numpy as np\n",
    "from keras.models import Sequential\n",
    "from keras.layers.core import Dense, Lambda\n",
    "from keras import backend as K\n",
    "import matplotlib.pyplot as plt\n",
    "import itertools\n",
    "%matplotlib inline"
   ]
  },
  {
   "cell_type": "code",
   "execution_count": 2,
   "metadata": {
    "colab": {
     "base_uri": "https://localhost:8080/",
     "height": 130
    },
    "id": "JG2NNbnXB_rk",
    "outputId": "6ac03ab7-c747-4841-97e6-acc5a9197e94"
   },
   "outputs": [],
   "source": [
    "#Remove existing txt files\n",
    "#rm *.txt"
   ]
  },
  {
   "cell_type": "code",
   "execution_count": 3,
   "metadata": {
    "colab": {
     "base_uri": "https://localhost:8080/",
     "height": 181
    },
    "id": "rFZoSeywCEzQ",
    "outputId": "3eb82f18-411c-42e9-db72-cc09c95ee297"
   },
   "outputs": [],
   "source": [
    "#See what you have in your current directory\n",
    "#ls"
   ]
  },
  {
   "cell_type": "markdown",
   "metadata": {
    "id": "PckpxTa-K8wl"
   },
   "source": [
    "# Functions and Parameters "
   ]
  },
  {
   "cell_type": "code",
   "execution_count": 4,
   "metadata": {
    "id": "_8shKYzCK8wn"
   },
   "outputs": [],
   "source": [
    "def sigma_calc(a):\n",
    "    return np.sqrt(1/(2*10**(a/10)))\n",
    "    \n",
    "def modulateBPSK(x): # 0 -> 1,  1 -> -1\n",
    "    return -2*x +1;\n",
    "\n",
    "def addNoise(x, sigma):\n",
    "    w = K.random_normal(K.shape(x), mean=0.0, stddev=sigma)\n",
    "    return x + w\n",
    "\n",
    "def addNoise_RC(x, sigma):\n",
    "    w = np.random.normal(0, sigma, x.shape)\n",
    "    return x + w\n",
    "\n",
    "def ber(y_true, y_pred):\n",
    "    return K.mean(K.not_equal(y_true, K.round(y_pred)))\n",
    "\n",
    "def return_output_shape(input_shape):  \n",
    "    return input_shape\n",
    "\n",
    "def compose_model(layers):\n",
    "    model = Sequential()\n",
    "    for layer in layers:\n",
    "        model.add(layer)\n",
    "    return model\n",
    "\n",
    "def Encoder31_RC(x): # 0->000, 1->111\n",
    "  return np.array([[it for it in item for i in range(3)] for item in x])\n",
    "\n",
    "def SoftDecisionDecoder_RC(x): # 0->111, 1->000 \n",
    "  res=[]\n",
    "  n=x.shape[1]//3\n",
    "  for item in x:\n",
    "    subres=[]\n",
    "    for i in range(n):\n",
    "        subres.append(int(np.sum(item[3*i:3*i+3])<0)) # if sum of 3 values < 0 then code is 1 otherwise 0\n",
    "    res.append(subres)\n",
    "  return res\n",
    "\n",
    "def ber_RC(y_true, y_pred):\n",
    "    return np.mean(np.not_equal(y_true,y_pred))\n",
    "\n",
    "def HardDecisionDecoder_RC(x):\n",
    "  res=[]\n",
    "  n=x.shape[1]//3\n",
    "  for item in x:\n",
    "    subres=[]\n",
    "    for i in range(n):\n",
    "      subres.append(int(np.sum((item[3*i:3*i+3]>0).astype(int))<=1)) # if majority bit is 1 then code is 1 otherwise 0\n",
    "    res.append(subres)\n",
    "  return res"
   ]
  },
  {
   "cell_type": "code",
   "execution_count": 5,
   "metadata": {
    "id": "O3tREpN3K8wl"
   },
   "outputs": [],
   "source": [
    "k = 8                        # number of information bits\n",
    "N = 4*k                      # code length r=k/N\n",
    "train_SNR_Eb = 1             # training-Eb/No\n",
    "power=10\n",
    "nb_epoch = 2**power          # number of learning epochs\n",
    "nn_structure = [128, 64, 32] # each list entry defines the number of nodes in a layer\n",
    "batch_size = 256             # size of batches for calculation the gradient\n",
    "log10KN=np.log10(k/N)\n",
    "train_SNR_Es = train_SNR_Eb + 10*log10KN\n",
    "train_sigma = sigma_calc(train_SNR_Es)"
   ]
  },
  {
   "cell_type": "markdown",
   "metadata": {
    "id": "ljvaWHMGypLy"
   },
   "source": [
    "# Define Neural Network Model"
   ]
  },
  {
   "cell_type": "code",
   "execution_count": 6,
   "metadata": {
    "id": "h_uOWsc4K8wo"
   },
   "outputs": [],
   "source": [
    "# Define modulator\n",
    "modulator_layers = [Lambda(modulateBPSK, input_shape=(N,), output_shape=return_output_shape, name=\"modulator\")]\n",
    "modulator = compose_model(modulator_layers)\n",
    "modulator.compile(optimizer='adam', loss='mse')\n",
    "\n",
    "# Define noise\n",
    "noise_layers = [Lambda(addNoise, arguments={'sigma':train_sigma}, input_shape=(N,), output_shape=return_output_shape, name=\"noise\")]\n",
    "noise = compose_model(noise_layers)\n",
    "noise.compile(optimizer='adam', loss='mse')\n",
    "\n",
    "# Define decoder \n",
    "decoder_layers = [Dense(nn_structure[0], activation='relu', input_shape=(N,))]\n",
    "for i in range(1,len(nn_structure)):\n",
    "    decoder_layers.append(Dense(nn_structure[i], activation='relu'))\n",
    "decoder_layers.append(Dense(k, activation='sigmoid'))\n",
    "decoder = compose_model(decoder_layers)\n",
    "decoder.compile(optimizer='adam', loss='mse', metrics=[ber])\n",
    "\n",
    "# Define model\n",
    "model_layers = modulator_layers + noise_layers + decoder_layers\n",
    "model = compose_model(model_layers)\n",
    "model.compile(optimizer='adam', loss='mse')"
   ]
  },
  {
   "cell_type": "markdown",
   "metadata": {
    "id": "bHZ_H-36K8wq"
   },
   "source": [
    "# Data Generation"
   ]
  },
  {
   "cell_type": "code",
   "execution_count": 7,
   "metadata": {
    "id": "3MRCvnvdK8wr"
   },
   "outputs": [],
   "source": [
    "def AllPossInforWords(m):\n",
    "  res = np.zeros((2**m, m),dtype=bool)\n",
    "  for i, t in enumerate(itertools.product([0, 1], repeat=m)):\n",
    "    res[i] = list(t)\n",
    "  return res\n",
    "\n",
    "def bin_to_int(x):\n",
    "  n=len(x)\n",
    "  value = [x[i] * 2 ** (n-i-1) for i in range(n)]\n",
    "  return np.sum(value).astype(int)"
   ]
  },
  {
   "cell_type": "code",
   "execution_count": 8,
   "metadata": {
    "id": "OAiLjPx_K8wt"
   },
   "outputs": [],
   "source": [
    "# Create all possible information words\n",
    "d=AllPossInforWords(k)\n",
    "# Create sets of all possible codewords\n",
    "np.random.seed(212)   \n",
    "x = np.random.randint(0,2,size=(2**k,N), dtype=bool)"
   ]
  },
  {
   "cell_type": "markdown",
   "metadata": {
    "id": "AN8bLLOFK8wy"
   },
   "source": [
    "# Neural Network Training"
   ]
  },
  {
   "cell_type": "code",
   "execution_count": 9,
   "metadata": {
    "colab": {
     "base_uri": "https://localhost:8080/"
    },
    "id": "4G88b-J8K8wz",
    "outputId": "8a19af45-cfcd-41ff-f55f-dd1bde160dcb"
   },
   "outputs": [
    {
     "name": "stdout",
     "output_type": "stream",
     "text": [
      "Model: \"sequential_3\"\n",
      "_________________________________________________________________\n",
      "Layer (type)                 Output Shape              Param #   \n",
      "=================================================================\n",
      "modulator (Lambda)           (None, 32)                0         \n",
      "_________________________________________________________________\n",
      "noise (Lambda)               (None, 32)                0         \n",
      "_________________________________________________________________\n",
      "dense (Dense)                (None, 128)               4224      \n",
      "_________________________________________________________________\n",
      "dense_1 (Dense)              (None, 64)                8256      \n",
      "_________________________________________________________________\n",
      "dense_2 (Dense)              (None, 32)                2080      \n",
      "_________________________________________________________________\n",
      "dense_3 (Dense)              (None, 8)                 264       \n",
      "=================================================================\n",
      "Total params: 14,824\n",
      "Trainable params: 14,824\n",
      "Non-trainable params: 0\n",
      "_________________________________________________________________\n"
     ]
    }
   ],
   "source": [
    "model.summary()\n",
    "history = model.fit(x, d, batch_size=batch_size, epochs=nb_epoch, verbose=0, shuffle=True)"
   ]
  },
  {
   "cell_type": "markdown",
   "metadata": {
    "id": "4tRxl7u0K8w0"
   },
   "source": [
    "# Neural Network and Repetition Code Testing"
   ]
  },
  {
   "cell_type": "code",
   "execution_count": 10,
   "metadata": {
    "id": "1zwAwni0K8w2"
   },
   "outputs": [],
   "source": [
    "test_batch = 2**9  \n",
    "num_words = 2**12      \n",
    "SNR_dB_start_Eb = 0\n",
    "SNR_dB_stop_Eb = 5\n",
    "SNR_points = 10\n",
    "\n",
    "SNR_dB_start_Es = SNR_dB_start_Eb + 10*log10KN\n",
    "SNR_dB_stop_Es = SNR_dB_stop_Eb + 10*log10KN\n",
    "\n",
    "sigma_start = sigma_calc(SNR_dB_start_Es)\n",
    "sigma_stop = sigma_calc(SNR_dB_stop_Es)\n",
    "\n",
    "sigmas = np.linspace(sigma_start, sigma_stop, SNR_points)\n",
    "\n",
    "nb_errorsNN = np.zeros(SNR_points,dtype=float)\n",
    "nb_errorsRCSD = np.zeros(SNR_points,dtype=float)\n",
    "nb_errorsRCHD = np.zeros(SNR_points,dtype=float)\n",
    "nb_bits = np.full(SNR_points, k*num_words)\n",
    "\n",
    "for i in range(SNR_points):\n",
    "    for j in range(num_words//test_batch):\n",
    "        # Source\n",
    "        np.random.seed(0)\n",
    "        d_test = np.random.randint(0,2,size=(test_batch, k)) \n",
    "\n",
    "        # Encoder for NN\n",
    "        x_test = np.zeros((test_batch, N),dtype=bool)\n",
    "        for p in range(test_batch):\n",
    "            x_test[p] = x[bin_to_int(d_test[p])]\n",
    "        # Encoder for Repetition Code\n",
    "        x_testRC = Encoder31_RC(d_test)\n",
    "\n",
    "        # Modulator (BPSK) for NN\n",
    "        s_testNN = modulateBPSK(x_test)\n",
    "        # Modulator (BPSK) for RC\n",
    "        s_testRC = modulateBPSK(x_testRC)\n",
    "\n",
    "        # Channel (AWGN) for NN\n",
    "        y_testNN = addNoise(s_testNN, sigmas[i])\n",
    "        # Channel (AWGN) for RC\n",
    "        y_testRC = addNoise_RC(s_testRC, sigmas[i])\n",
    "\n",
    "        #Decode BER for NN\n",
    "        nb_errorsNN[i] += decoder.evaluate(y_testNN, d_test, batch_size=test_batch, verbose=0)[1] # BER of Neural Network\n",
    "\n",
    "        #Decode BER for RC\n",
    "        Decoded_y_testRC=SoftDecisionDecoder_RC(y_testRC) # Decoding by Soft Decision Decoder\n",
    "        Decoded_y_testRCHD=HardDecisionDecoder_RC(y_testRC) # Decoding by Hard Decision Decoder\n",
    "        nb_errorsRCSD[i] += ber_RC(Decoded_y_testRC, d_test) # BER of Soft Decision Decoder\n",
    "        nb_errorsRCHD[i] += ber_RC(Decoded_y_testRCHD, d_test) # BER of Hard Decision Decoder"
   ]
  },
  {
   "cell_type": "code",
   "execution_count": 12,
   "metadata": {
    "id": "ddcrLOF4vt5O"
   },
   "outputs": [],
   "source": [
    "#Uncomment to generate more results based on epoches\n",
    "\n",
    "#st=''\n",
    "#for i in range(len(nb_errorsNN)):\n",
    "#  st=st+str(nb_errorsNN[i]/nb_bits[i])+','\n",
    "#st=st[:-1]\n",
    "\n",
    "#with open('epoch_2^'+str(power)+'.txt', 'w') as f:\n",
    "#    print(st, file=f)"
   ]
  },
  {
   "cell_type": "markdown",
   "metadata": {
    "id": "tv_ka7_fK8w6"
   },
   "source": [
    "# Bit-Error-Rate Plot"
   ]
  },
  {
   "cell_type": "code",
   "execution_count": 13,
   "metadata": {
    "colab": {
     "base_uri": "https://localhost:8080/",
     "height": 283
    },
    "id": "VIID4UcuCk9W",
    "outputId": "1a5a49fc-62dd-4d92-92c4-7b0673ff97af"
   },
   "outputs": [
    {
     "data": {
      "image/png": "[encoded data removed]",
      "text/plain": [
       "<Figure size 432x288 with 1 Axes>"
      ]
     },
     "metadata": {
      "needs_background": "light"
     },
     "output_type": "display_data"
    }
   ],
   "source": [
    "plt.plot(10*np.log10(1/(2*sigmas**2)) - 10*log10KN, nb_errorsNN/nb_bits)\n",
    "legend = []\n",
    "legend.append('Neural Network') \n",
    "plt.legend(legend, loc=3)\n",
    "plt.yscale('log')\n",
    "plt.xlabel('(Energy per bit to noise spectral density ratio) $E_b/N_0$')\n",
    "plt.ylabel('(Bit Error Rate) BER')    \n",
    "plt.grid(True)\n",
    "plt.show()"
   ]
  },
  {
   "cell_type": "markdown",
   "metadata": {},
   "source": [
    "# Neural Network and Repetition Code Performances Curve"
   ]
  },
  {
   "cell_type": "code",
   "execution_count": 14,
   "metadata": {
    "colab": {
     "base_uri": "https://localhost:8080/",
     "height": 299
    },
    "id": "VH8RRt4aK8w6",
    "outputId": "1bb4b41e-ac53-4b03-ea38-08b061b7770b"
   },
   "outputs": [
    {
     "data": {
      "image/png": "[encoded data removed]",
      "text/plain": [
       "<Figure size 432x288 with 1 Axes>"
      ]
     },
     "metadata": {
      "needs_background": "light"
     },
     "output_type": "display_data"
    }
   ],
   "source": [
    "plt.plot(10*np.log10(1/(2*sigmas**2)) - 10*log10KN, nb_errorsNN/nb_bits)\n",
    "plt.plot(10*np.log10(1/(2*sigmas**2)) - 10*log10KN, nb_errorsRCSD/nb_bits)\n",
    "plt.plot(10*np.log10(1/(2*sigmas**2)) - 10*log10KN, nb_errorsRCHD/nb_bits)\n",
    "\n",
    "legend = []\n",
    "plt.title(\"Neural Network and Repetition Code Performances Curve (Epoch=2^10)\")\n",
    "legend.append('Neural Network') \n",
    "legend.append('Repetition Code(SoftDecision)') \n",
    "legend.append('Repetition Code(HardDecision)') \n",
    "\n",
    "plt.legend(legend, loc=3)\n",
    "plt.yscale('log')\n",
    "plt.xlabel('(Energy per bit to noise spectral density ratio) $E_b/N_0$')\n",
    "plt.ylabel('(Bit Error Rate) BER')    \n",
    "plt.grid(True)\n",
    "plt.show()"
   ]
  },
  {
   "cell_type": "code",
   "execution_count": 15,
   "metadata": {
    "colab": {
     "base_uri": "https://localhost:8080/"
    },
    "id": "poPu3jrx_C6-",
    "outputId": "9222c50d-cb07-42a5-9487-7f0742e39f90"
   },
   "outputs": [
    {
     "name": "stdout",
     "output_type": "stream",
     "text": [
      "'epoch_2^10.txt'  'epoch_2^12.txt'  'epoch_2^14.txt'        \u001b[0m\u001b[01;34mPrevious\u001b[0m/\r\n",
      "'epoch_2^11.txt'  'epoch_2^13.txt'   Final_ICT_Code.ipynb\r\n"
     ]
    }
   ],
   "source": [
    "ls"
   ]
  },
  {
   "cell_type": "code",
   "execution_count": 16,
   "metadata": {
    "colab": {
     "base_uri": "https://localhost:8080/",
     "height": 208,
     "resources": {
      "http://localhost:8080/nbextensions/google.colab/files.js": {
       "data": "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",
       "headers": [
        [
         "content-type",
         "application/javascript"
        ]
       ],
       "ok": true,
       "status": 200,
       "status_text": ""
      }
     }
    },
    "id": "G64DIyuEtLux",
    "outputId": "744dc8be-a007-48e0-fe43-636ac154f947"
   },
   "outputs": [],
   "source": [
    "#Please load files in the directory, we compiled and generated.\n",
    "#from google.colab import files\n",
    "#uploaded = files.upload()"
   ]
  },
  {
   "cell_type": "code",
   "execution_count": 17,
   "metadata": {
    "colab": {
     "base_uri": "https://localhost:8080/"
    },
    "id": "UL4nA9y9ttWb",
    "outputId": "05c46d74-a283-4a20-f891-56cba72d0aed"
   },
   "outputs": [
    {
     "name": "stdout",
     "output_type": "stream",
     "text": [
      "'epoch_2^10.txt'  'epoch_2^12.txt'  'epoch_2^14.txt'        \u001b[0m\u001b[01;34mPrevious\u001b[0m/\r\n",
      "'epoch_2^11.txt'  'epoch_2^13.txt'   Final_ICT_Code.ipynb\r\n"
     ]
    }
   ],
   "source": [
    "ls"
   ]
  },
  {
   "cell_type": "markdown",
   "metadata": {
    "id": "aD2tTGQwC1WW"
   },
   "source": [
    "## Bit-Error-Rate Plot Analysis on Different Epoches"
   ]
  },
  {
   "cell_type": "code",
   "execution_count": 18,
   "metadata": {
    "colab": {
     "base_uri": "https://localhost:8080/",
     "height": 299
    },
    "id": "uheUBT31tyN8",
    "outputId": "ab2e779e-bbf3-4b5b-9e3d-660879799f33"
   },
   "outputs": [
    {
     "data": {
      "image/png": "[encoded data removed]",
      "text/plain": [
       "<Figure size 432x288 with 1 Axes>"
      ]
     },
     "metadata": {
      "needs_background": "light"
     },
     "output_type": "display_data"
    }
   ],
   "source": [
    "Epoch_map10 = open('epoch_2^10.txt').read()\n",
    "Epoch_map11 = open('epoch_2^11.txt').read()\n",
    "Epoch_map12 = open('epoch_2^12.txt').read()\n",
    "Epoch_map13 = open('epoch_2^13.txt').read()\n",
    "Epoch_map14 = open('epoch_2^14.txt').read()\n",
    "\n",
    "Line10 = [float(x) for x in Epoch_map10.split(',')]\n",
    "Line11 = [float(x) for x in Epoch_map11.split(',')]\n",
    "Line12 = [float(x) for x in Epoch_map12.split(',')]\n",
    "Line13 = [float(x) for x in Epoch_map13.split(',')]\n",
    "Line14 = [float(x) for x in Epoch_map14.split(',')]\n",
    "\n",
    "plt.plot(10*np.log10(1/(2*sigmas**2)) - 10*log10KN, Line10)\n",
    "plt.plot(10*np.log10(1/(2*sigmas**2)) - 10*log10KN, Line11)\n",
    "plt.plot(10*np.log10(1/(2*sigmas**2)) - 10*log10KN, Line12)\n",
    "plt.plot(10*np.log10(1/(2*sigmas**2)) - 10*log10KN, Line13)\n",
    "plt.plot(10*np.log10(1/(2*sigmas**2)) - 10*log10KN, Line14)\n",
    "\n",
    "legend = []\n",
    "plt.title(\"Neural Network Performance Curve\")\n",
    "legend.append('Ep_2^10')\n",
    "legend.append('Ep_2^11')\n",
    "legend.append('Ep_2^12')\n",
    "legend.append('Ep_2^13')\n",
    "legend.append('Ep_2^14')\n",
    "\n",
    "plt.legend(legend, loc=3)\n",
    "plt.yscale('log')\n",
    "plt.xlabel('(Energy per bit to noise spectral density ratio) $E_b/N_0$')\n",
    "plt.ylabel('(Bit Error Rate) BER')    \n",
    "plt.grid(True)\n",
    "plt.show()"
   ]
  },
  {
   "cell_type": "markdown",
   "metadata": {
    "id": "JHViT4Dm--B1"
   },
   "source": [
    "<i> <b>Reference:</b> T. Gruber, S. Cammerer, J. Hoydis and S. t. Brink, \"On deep learning-based channel decoding,\" 2017 51st Annual Conference on Information Sciences and Systems (CISS), Baltimore, MD, USA, 2017, pp. 1-6, doi: 10.1109/CISS.2017.7926071.</i>"
   ]
  },
  {
   "cell_type": "code",
   "execution_count": null,
   "metadata": {
    "id": "nfDMzf0zt9wq"
   },
   "outputs": [],
   "source": []
  }
 ],
 "metadata": {
  "accelerator": "GPU",
  "colab": {
   "collapsed_sections": [],
   "name": "Final Project Code.ipynb",
   "provenance": []
  },
  "kernelspec": {
   "display_name": "Python 3",
   "language": "python",
   "name": "python3"
  },
  "language_info": {
   "codemirror_mode": {
    "name": "ipython",
    "version": 3
   },
   "file_extension": ".py",
   "mimetype": "text/x-python",
   "name": "python",
   "nbconvert_exporter": "python",
   "pygments_lexer": "ipython3",
   "version": "3.8.5"
  }
 },
 "nbformat": 4,
 "nbformat_minor": 1
}
